{
 "cells": [
  {
   "cell_type": "markdown",
   "metadata": {
    "id": "lO0Mmpiil_BE"
   },
   "source": [
    "\n",
    "Machine Learning on Big Data (CN7030) CRWK 21-22 [60 marks]\n",
    "Group ID: 5\n",
    "Student 1: MARIA ANTONY and 2176663\n",
    "Student 2: PARDHA SARADHI GUNDLAPLLI and 2176298\n",
    "\n",
    "\n",
    "Module leader: Dr Amin Karami (a.karami@uel.ac.uk)\n",
    "If you want to add comments on your group work, please write it here for us:"
   ]
  },
  {
   "cell_type": "code",
   "execution_count": null,
   "metadata": {
    "colab": {
     "base_uri": "https://localhost:8080/"
    },
    "id": "9jabUl2J8l4z",
    "outputId": "a4a4986e-995b-418d-9cf2-38e86c05ebc3"
   },
   "outputs": [],
   "source": [
    "# # Checking PYSPARK Directory\n",
    "import findspark\n",
    "findspark.init()"
   ]
  },
  {
   "cell_type": "code",
   "execution_count": 2,
   "metadata": {
    "id": "s6KyalX6mI42"
   },
   "outputs": [],
   "source": [
    "# Configuration PYSPARK \n",
    "# This is the configuration of pyspark application. Here various parameters are set as key-value pairs.\n",
    "# Configuration PYSPARK \n",
    "from pyspark.sql import SparkContext, SparkConf\n",
    "spark = SparkContext(master='local[2]',appName = \"ML_BIGDATA\")"
   ]
  },
  {
   "cell_type": "code",
   "execution_count": 41,
   "metadata": {
    "id": "6NQ64UMgvWcJ"
   },
   "outputs": [],
   "source": [
    "# Importing Packages / Libraries\n",
    "from pyspark.sql.functions import regexp_replace, col\n",
    "from pyspark.sql.types import IntegerType\n",
    "from pyspark.ml.feature import StringIndexer, VectorAssembler,PCA\n",
    "from pyspark.ml.classification import LogisticRegression, RandomForestClassifier\n",
    "from pyspark.ml.tuning import ParamGridBuilder,CrossValidator\n",
    "from pyspark.ml.evaluation import BinaryClassificationEvaluator,MulticlassClassificationEvaluator\n",
    "from sklearn.metrics import *\n",
    "from sklearn.metrics import confusion_matrix, classification_report,ConfusionMatrixDisplay\n",
    "from pyspark.ml.feature import StandardScaler\n",
    "import matplotlib.pyplot as plt\n",
    "import warnings\n",
    "import scikitplot as skplt\n",
    "warnings.filterwarnings(\"ignore\")"
   ]
  },
  {
   "cell_type": "code",
   "execution_count": 5,
   "metadata": {
    "id": "mAO2vjZIuWrr"
   },
   "outputs": [],
   "source": [
    "# Data Reading and Updating Columns\n",
    "# Here we load the data and re-named all the columns. It is then saved back to df.\n",
    "df = spark.read.csv('UNSW-NB15.csv',inferSchema=True, header =False)\n",
    "updated_col_names = [\n",
    "       'srcip','sport','dstip','dsport','proto','state','dur','sbytes','dbytes','sttl','dttl','sloss','dloss','service','Sload',\n",
    "       'Dload','Spkts','Dpkts','swin','dwin','stcpb','dtcpb','smeansz','dmeansz','trans_depth','res_bdy_len','Sjit','Djit','Stime','Ltime','Sintpkt',\n",
    "       'Dintpkt','tcprtt','synack','ackdat','is_sm_ips_ports','ct_state_ttl','ct_flw_http_mthd','is_ftp_login','ct_ftp_cmd',\n",
    "       'ct_srv_src','ct_srv_dst','ct_dst_ltm','ct_src_ ltm','ct_src_dport_ltm','ct_dst_sport_ltm','ct_dst_src_ltm','attack_cat','Label'\n",
    "]\n",
    "df = df.toDF(*updated_col_names)"
   ]
  },
  {
   "cell_type": "markdown",
   "metadata": {
    "id": "IRGHM3rOsKvU"
   },
   "source": [
    "# Data Engineering & Feature Engineering\n",
    "\n",
    "    * Through data dngineering, we collect,translate and validate data for analysis\n",
    "    * Using feature engineering techniques, we choose, manipulate and convert raw data into features. It is used in         Supervised Learning. It simplifies and speed up data transformations. Also, improving model accuracy."
   ]
  },
  {
   "cell_type": "markdown",
   "metadata": {
    "id": "xxJNPiRcse1e"
   },
   "source": [
    "***Dropping Un-Wanted Columns***"
   ]
  },
  {
   "cell_type": "code",
   "execution_count": 6,
   "metadata": {
    "colab": {
     "base_uri": "https://localhost:8080/"
    },
    "id": "ygEgRMblAGoU",
    "outputId": "f918afbe-5f2f-46b3-abd3-e8af4607eb3f"
   },
   "outputs": [
    {
     "name": "stdout",
     "output_type": "stream",
     "text": [
      "+-----+-----+-----------+------+------+----+----+-----+-----+-------+---------+---------+-----+-----+-------+-------+-----------+-----------+---------+---------+---------+----------+------------+------------+-------+---------------+------------+----------------+------------+----------+----------+----------+----------+-----------+----------------+----------------+--------------+----------+\n",
      "|proto|state|        dur|sbytes|dbytes|sttl|dttl|sloss|dloss|service|    Sload|    Dload|Spkts|Dpkts|smeansz|dmeansz|trans_depth|res_bdy_len|     Sjit|     Djit|  Sintpkt|   Dintpkt|      tcprtt|      synack| ackdat|is_sm_ips_ports|ct_state_ttl|ct_flw_http_mthd|is_ftp_login|ct_ftp_cmd|ct_srv_src|ct_srv_dst|ct_dst_ltm|ct_src_ ltm|ct_src_dport_ltm|ct_dst_sport_ltm|ct_dst_src_ltm|attack_cat|\n",
      "+-----+-----+-----------+------+------+----+----+-----+-----+-------+---------+---------+-----+-----+-------+-------+-----------+-----------+---------+---------+---------+----------+------------+------------+-------+---------------+------------+----------------+------------+----------+----------+----------+----------+-----------+----------------+----------------+--------------+----------+\n",
      "|  tcp|  FIN| 0.82546002|  7812| 16236|  31|  29|   30|   32|      -| 75090.25|156111.73|  122|  126|     64|    129|          0|          0|445.25928| 474.9451|6.8190908|  6.599896|5.9700001E-4|4.6899999E-4|1.28E-4|              0|           0|               0|           0|         0|         2|         7|         1|          4|               1|               1|             1|      null|\n",
      "|  tcp|  FIN|   0.101815|  4238| 65628|  31|  29|    7|   30|      -|328438.84|5087030.5|   72|   74|     59|    887|          0|          0|      0.0|91.579567| 1.429493|  1.387192|      6.8E-4|5.4600002E-4|1.34E-4|              0|           0|               0|           0|         0|         7|         4|         1|          6|               1|               1|             1|      null|\n",
      "|  tcp|  FIN|0.044002999|  2750| 29104|  31|  29|    7|   17|      -|488693.97|5181101.5|   44|   48|     63|    606|          0|          0|78.126968|62.206562| 1.014977|0.92583001|     0.00125|     4.85E-4|7.65E-4|              0|           0|               0|           0|         0|         3|         5|         3|          3|               1|               1|             1|      null|\n",
      "+-----+-----+-----------+------+------+----+----+-----+-----+-------+---------+---------+-----+-----+-------+-------+-----------+-----------+---------+---------+---------+----------+------------+------------+-------+---------------+------------+----------------+------------+----------+----------+----------+----------+-----------+----------------+----------------+--------------+----------+\n",
      "only showing top 3 rows\n",
      "\n"
     ]
    }
   ],
   "source": [
    "# Dropping un-wanted columns- There are several un-wanted columns which are not required for classification. Removing such columns helps to improve the performance and helps to get good accuracy. \n",
    "# Selected relevant features based on domain importance\n",
    "df_1 = df.drop(\"srcip\",\"sport\",\"dstip\",\"dsport\",\"swin\",\"dwin\",\"stcpb\",\"dtcpb\",\"Stime\",\"Ltime\",\"Label\")\n",
    "# view data\n",
    "df_1.show(3)"
   ]
  },
  {
   "cell_type": "markdown",
   "metadata": {
    "id": "wlOYK_qrtT86"
   },
   "source": [
    "Checking for special characters using group by techniques and replacing with \n",
    "    For categorical: Mode\n",
    "    For Numerical: Mean / Median"
   ]
  },
  {
   "cell_type": "code",
   "execution_count": 7,
   "metadata": {
    "colab": {
     "base_uri": "https://localhost:8080/"
    },
    "id": "uhTfNjVCE3ih",
    "outputId": "770f5676-e76c-4c00-80e2-82cf6c1911ea"
   },
   "outputs": [
    {
     "name": "stdout",
     "output_type": "stream",
     "text": [
      "+--------+-------+\n",
      "| service|  count|\n",
      "+--------+-------+\n",
      "|     irc|     31|\n",
      "|  radius|     40|\n",
      "|    snmp|    113|\n",
      "|     ssl|    142|\n",
      "|    dhcp|    172|\n",
      "|    pop3|   1533|\n",
      "|     ssh|  47160|\n",
      "|     ftp|  49090|\n",
      "|    smtp|  81645|\n",
      "|ftp-data| 125783|\n",
      "|    http| 206273|\n",
      "|     dns| 781668|\n",
      "|       -|1246089|\n",
      "+--------+-------+\n",
      "\n",
      "+--------+------------------+\n",
      "| service|       service_new|\n",
      "+--------+------------------+\n",
      "|       -|       no_frequent|\n",
      "|       -|       no_frequent|\n",
      "|       -|       no_frequent|\n",
      "|       -|       no_frequent|\n",
      "|       -|       no_frequent|\n",
      "|       -|       no_frequent|\n",
      "|     dns|               dns|\n",
      "|ftp-data|ftpno_frequentdata|\n",
      "|     dns|               dns|\n",
      "|     dns|               dns|\n",
      "|     dns|               dns|\n",
      "|ftp-data|ftpno_frequentdata|\n",
      "|       -|       no_frequent|\n",
      "|       -|       no_frequent|\n",
      "|       -|       no_frequent|\n",
      "|     dns|               dns|\n",
      "|     dns|               dns|\n",
      "|     dns|               dns|\n",
      "|     ftp|               ftp|\n",
      "|       -|       no_frequent|\n",
      "+--------+------------------+\n",
      "only showing top 20 rows\n",
      "\n"
     ]
    }
   ],
   "source": [
    "# This helps to find the most frequent value from the column 'service'. Also, getting the count in ascending order.\n",
    "df_1.groupBy(\"service\").count().orderBy(\"count\",ascending=True).show()\n",
    "\n",
    "# As there is more number of '-', we replace it with no_frequent. Replacing with no_frequent using regexp_replace.\n",
    "df_1 = df_1.withColumn(\"service_new\",regexp_replace(col(\"service\"),\"-\",\"no_frequent\"))\n",
    "\n",
    "#Inorder to cross check, we selcet both 'service' and 'service_new', then showed.\n",
    "df_1.select('service','service_new').show()\n",
    "\n",
    "# Dropping service form data as it is not required.\n",
    "df_1 = df_1.drop(\"service\")"
   ]
  },
  {
   "cell_type": "markdown",
   "metadata": {
    "id": "-f8UaETft_zi"
   },
   "source": [
    "Target variable(attack_cat) contains null valaues and treating it as no attack as per documentation given(1-attack, 0-normal)"
   ]
  },
  {
   "cell_type": "code",
   "execution_count": 8,
   "metadata": {
    "colab": {
     "base_uri": "https://localhost:8080/"
    },
    "id": "5diAawv2MSgq",
    "outputId": "369e4854-ed06-4291-ec6a-d6bca6dc61f1"
   },
   "outputs": [
    {
     "name": "stdout",
     "output_type": "stream",
     "text": [
      "+---------------+-------+\n",
      "|     attack_cat|  count|\n",
      "+---------------+-------+\n",
      "|          Worms|    174|\n",
      "|         normal|2218456|\n",
      "|       Analysis|   2677|\n",
      "|     Shellcode |   1288|\n",
      "|            DoS|  16353|\n",
      "|Reconnaissance |  12228|\n",
      "|       Backdoor|   1795|\n",
      "|       Fuzzers |  19195|\n",
      "|       Exploits|  44525|\n",
      "|        Generic| 215481|\n",
      "|      Shellcode|    223|\n",
      "|      Backdoors|    534|\n",
      "|        Fuzzers|   5051|\n",
      "| Reconnaissance|   1759|\n",
      "+---------------+-------+\n",
      "\n"
     ]
    }
   ],
   "source": [
    "# Filling na as normal using na.fill method\n",
    "df_1 = df_1.na.fill(value=\"normal\",subset=[\"attack_cat\"])\n",
    "# Showing results lable wise\n",
    "df_1.groupBy(\"attack_cat\").count().show()"
   ]
  },
  {
   "cell_type": "markdown",
   "metadata": {
    "id": "gIebljZ3wLeB"
   },
   "source": [
    "from target variable, few lables are same but because of spaces those are being treated as different labels\n",
    "\n",
    "  For example: label Reconnaissance repeated two times with spaces\n",
    "\n",
    "  Using **regexp_replace** function strimming spaces from labels"
   ]
  },
  {
   "cell_type": "code",
   "execution_count": 9,
   "metadata": {
    "colab": {
     "base_uri": "https://localhost:8080/"
    },
    "id": "YifYRGa8u_lR",
    "outputId": "9d468234-f0db-4ab9-9aad-8c416b9abc09"
   },
   "outputs": [
    {
     "name": "stdout",
     "output_type": "stream",
     "text": [
      "+--------------+-------+\n",
      "|    attack_cat|  count|\n",
      "+--------------+-------+\n",
      "|         Worms|    174|\n",
      "|     Backdoors|    534|\n",
      "|     Shellcode|   1511|\n",
      "|      Backdoor|   1795|\n",
      "|      Analysis|   2677|\n",
      "|Reconnaissance|  13987|\n",
      "|           DoS|  16353|\n",
      "|       Fuzzers|  24246|\n",
      "|      Exploits|  44525|\n",
      "|       Generic| 215481|\n",
      "|        normal|2218456|\n",
      "+--------------+-------+\n",
      "\n"
     ]
    }
   ],
   "source": [
    "# From attack_cat, we replace space and updated it to without any space. So the space from previous section is removed and it becomes Reconnaissance(count= 13987).\n",
    "df_1 = df_1.withColumn(\"attack_cat\",regexp_replace(col(\"attack_cat\"),\" \",\"\"))\n",
    "# cross-checking - Here we cross-check that using groupby and the count is shown in ascending order.\n",
    "df_1.groupBy(\"attack_cat\").count().orderBy(\"count\",ascending=True).show()"
   ]
  },
  {
   "cell_type": "markdown",
   "metadata": {
    "id": "pg4niPT6wp7z"
   },
   "source": [
    "***Feature Engineering - Variable Encoding***\n",
    "\n",
    "    * Here we convert categorical variables to numeric variables."
   ]
  },
  {
   "cell_type": "markdown",
   "metadata": {
    "id": "cEQ7Du5M9w8q"
   },
   "source": [
    "Replacing target variables with custom keys"
   ]
  },
  {
   "cell_type": "code",
   "execution_count": 10,
   "metadata": {
    "colab": {
     "base_uri": "https://localhost:8080/"
    },
    "id": "SvrP-UDHu_rP",
    "outputId": "d0b432f6-7b6e-4b83-986e-71671fe74072"
   },
   "outputs": [
    {
     "name": "stdout",
     "output_type": "stream",
     "text": [
      "+----------+\n",
      "|attack_cat|\n",
      "+----------+\n",
      "|         0|\n",
      "|         0|\n",
      "|         0|\n",
      "+----------+\n",
      "only showing top 3 rows\n",
      "\n"
     ]
    }
   ],
   "source": [
    "# Only for Target Variable Custom Encoding\n",
    "# Here we replace the target variables with custom keys. Value is given for each variable. \n",
    "#It is then converted into IntegerType and the result is shown.\n",
    "target_key_pair = {\"normal\":'0',\"Generic\":'1',\"Exploits\":'2',\"Fuzzers\":'3',\"DoS\":'4',\n",
    "                        \"Reconnaissance\":'5',\"Analysis\":'6',\"Backdoor\":'7',\n",
    "                          \"Shellcode\":'8',\"Backdoors\":'9',\"Worms\":'10'}\n",
    "\n",
    "df_1 = df_1.replace(to_replace=target_key_pair,subset=['attack_cat'])\n",
    "df_1= df_1.withColumn(\"attack_cat\",col(\"attack_cat\").cast(IntegerType()))\n",
    "df_1.select('attack_cat').show(3)"
   ]
  },
  {
   "cell_type": "code",
   "execution_count": 11,
   "metadata": {
    "id": "WEBAas6p-0FC"
   },
   "outputs": [],
   "source": [
    "# Vector Indexing\n",
    "# By using StringIndexer we convert string data into numerical, then we perform fit and transform in df_1.\n",
    "df_1 = StringIndexer(inputCol=\"state\",outputCol=\"state_1\").fit(df_1).transform(df_1)\n",
    "df_1 = StringIndexer(inputCol=\"service_new\",outputCol=\"service_new_1\").fit(df_1).transform(df_1)"
   ]
  },
  {
   "cell_type": "code",
   "execution_count": 12,
   "metadata": {
    "colab": {
     "base_uri": "https://localhost:8080/"
    },
    "id": "SI-hLaM2m4LL",
    "outputId": "441f53bf-48e5-42ae-b7a2-6361e56b197e"
   },
   "outputs": [
    {
     "name": "stdout",
     "output_type": "stream",
     "text": [
      "+----------+------+------+----+----+-----+-----+---------+---------+-----+-----+-------+-------+-----------+-----------+---------+---------+---------+--------+------------+------------+-------+---------------+------------+----------------+------------+----------+----------+----------+----------+-----------+----------------+----------------+--------------+----------+-------+-------------+\n",
      "|       dur|sbytes|dbytes|sttl|dttl|sloss|dloss|    Sload|    Dload|Spkts|Dpkts|smeansz|dmeansz|trans_depth|res_bdy_len|     Sjit|     Djit|  Sintpkt| Dintpkt|      tcprtt|      synack| ackdat|is_sm_ips_ports|ct_state_ttl|ct_flw_http_mthd|is_ftp_login|ct_ftp_cmd|ct_srv_src|ct_srv_dst|ct_dst_ltm|ct_src_ ltm|ct_src_dport_ltm|ct_dst_sport_ltm|ct_dst_src_ltm|attack_cat|state_1|service_new_1|\n",
      "+----------+------+------+----+----+-----+-----+---------+---------+-----+-----+-------+-------+-----------+-----------+---------+---------+---------+--------+------------+------------+-------+---------------+------------+----------------+------------+----------+----------+----------+----------+-----------+----------------+----------------+--------------+----------+-------+-------------+\n",
      "|0.82546002|  7812| 16236|  31|  29|   30|   32| 75090.25|156111.73|  122|  126|     64|    129|          0|          0|445.25928| 474.9451|6.8190908|6.599896|5.9700001E-4|4.6899999E-4|1.28E-4|              0|           0|               0|           0|         0|         2|         7|         1|          4|               1|               1|             1|         0|    0.0|          0.0|\n",
      "|  0.101815|  4238| 65628|  31|  29|    7|   30|328438.84|5087030.5|   72|   74|     59|    887|          0|          0|      0.0|91.579567| 1.429493|1.387192|      6.8E-4|5.4600002E-4|1.34E-4|              0|           0|               0|           0|         0|         7|         4|         1|          6|               1|               1|             1|         0|    0.0|          0.0|\n",
      "+----------+------+------+----+----+-----+-----+---------+---------+-----+-----+-------+-------+-----------+-----------+---------+---------+---------+--------+------------+------------+-------+---------------+------------+----------------+------------+----------+----------+----------+----------+-----------+----------------+----------------+--------------+----------+-------+-------------+\n",
      "only showing top 2 rows\n",
      "\n"
     ]
    }
   ],
   "source": [
    "# We drop string columns and keeping the numerical columns.\n",
    "#Then the result is shown.\n",
    "df_1 = df_1.drop(\"proto\",\"state\",\"service_new\")\n",
    "df_1.show(2)"
   ]
  },
  {
   "cell_type": "code",
   "execution_count": 13,
   "metadata": {
    "id": "fROW5s2EzfBt"
   },
   "outputs": [],
   "source": [
    "# Getting all the input columns except target column and saving it to input_col\n",
    "input_col = [col for col in df_1.columns if col != \"attack_cat\"]\n",
    "# vector assembler 1 D vector\n",
    "# By using VecorAssembler, we convert the input columns into vector form and then it is transformed in df_1. From the assembler, it then selects \"attack_cat\" and \"features\"\n",
    "assembler = VectorAssembler(inputCols=input_col,outputCol=\"features\").transform(df_1)\n",
    "model_data = assembler.select(\"attack_cat\",\"features\")"
   ]
  },
  {
   "cell_type": "markdown",
   "metadata": {
    "id": "Tla0JPTWLSmi"
   },
   "source": [
    "***Standard Scaler***\n",
    "\n",
    "    * Standard Scaler fits into the dataset to produce Standard Scaler Model. The vector column in the dataset is then transformed to have unit standard deviation or zero mean characteristics. "
   ]
  },
  {
   "cell_type": "code",
   "execution_count": null,
   "metadata": {
    "colab": {
     "base_uri": "https://localhost:8080/"
    },
    "id": "hQ5yE2D0LXSO",
    "outputId": "81ce476f-0718-44f2-e098-70196605db5c"
   },
   "outputs": [
    {
     "name": "stdout",
     "output_type": "stream",
     "text": [
      "+----------+--------------------+--------------------+\n",
      "|attack_cat|            features|     scaled_features|\n",
      "+----------+--------------------+--------------------+\n",
      "|         0|[0.82546002,7812....|[0.05927572840054...|\n",
      "|         0|[0.101815,4238.0,...|[0.00731126661604...|\n",
      "|         0|[0.044002999,2750...|[0.00315982573878...|\n",
      "+----------+--------------------+--------------------+\n",
      "only showing top 3 rows\n",
      "\n"
     ]
    }
   ],
   "source": [
    "# Scaling the Data\n",
    "# Using StandardScaler, we perform scaling. Input column is given as features and the output column as scaled_features.\n",
    "# Fit and transform is performed in model_data and the table is shown.\n",
    "scaler = StandardScaler(inputCol=\"features\", outputCol=\"scaled_features\")\n",
    "scaler_model = scaler.fit(model_data) # Fitting\n",
    "scaled_data = scaler_model.transform(model_data) # Transforming\n",
    "scaled_data.show(3)"
   ]
  },
  {
   "cell_type": "markdown",
   "metadata": {
    "id": "SA1bustgC6Ox"
   },
   "source": [
    "***Principal Component Analysis***\n",
    "\n",
    "    *This is a dimensionality reduction technique. It trains the model to project vectors to low dimensional space of top k components. dimensional space of top k components."
   ]
  },
  {
   "cell_type": "code",
   "execution_count": null,
   "metadata": {
    "colab": {
     "base_uri": "https://localhost:8080/"
    },
    "id": "Nh4u-arVDDhE",
    "outputId": "0b590e73-7449-4806-b788-f68409205707"
   },
   "outputs": [
    {
     "name": "stdout",
     "output_type": "stream",
     "text": [
      "+----------+--------------------+--------------------+--------------------+\n",
      "|attack_cat|            features|     scaled_features|         pcaFeatures|\n",
      "+----------+--------------------+--------------------+--------------------+\n",
      "|         0|[0.82546002,7812....|[0.05927572840054...|[-0.0235286606229...|\n",
      "|         0|[0.101815,4238.0,...|[0.00731126661604...|[-0.2517619839385...|\n",
      "|         0|[0.044002999,2750...|[0.00315982573878...|[-0.0993967950510...|\n",
      "+----------+--------------------+--------------------+--------------------+\n",
      "only showing top 3 rows\n",
      "\n"
     ]
    }
   ],
   "source": [
    "# Scaling the Data, take top 4 components. InputCol is given as scaled_features and outputCol is given as pcaFeatures.\n",
    "# Fit and transform is done on scaled_data and then showing the result.\n",
    "\n",
    "pca = PCA(k=4, inputCol=\"scaled_features\", outputCol=\"pcaFeatures\")\n",
    "pca_model = pca.fit(scaled_data) # Fitting\n",
    "pca_data = pca_model.transform(scaled_data) # Transforming\n",
    "pca_data.show(3)"
   ]
  },
  {
   "cell_type": "code",
   "execution_count": 18,
   "metadata": {
    "id": "uAfoGY06MFIX"
   },
   "outputs": [],
   "source": [
    "# Data Spliting for Model Building\n",
    "# 70% data for training and 30% data for testing\n",
    "train, test = pca_data.randomSplit([0.7,0.3])"
   ]
  },
  {
   "cell_type": "markdown",
   "metadata": {
    "id": "wHft1Jht1Qxl"
   },
   "source": [
    "\n",
    "# **Task 1 - Binary Classifier [20 marks]**\n",
    "\n",
    "    * Binary classification is the process of categorising items into two categories based on a classification rule. It is a supervised learning strategy. In this case, computer software learns from data and creates new classifications. Logistic Regression is easier to implement than other methods.\n"
   ]
  },
  {
   "cell_type": "markdown",
   "metadata": {
    "id": "9l5Cmhy2_eOg"
   },
   "source": [
    "**LOGISTIC REGRESSION - CLASSIFICATION**"
   ]
  },
  {
   "cell_type": "code",
   "execution_count": 21,
   "metadata": {
    "id": "5kHVSNJHKATG"
   },
   "outputs": [],
   "source": [
    "# Model Initialization\n",
    "LR = LogisticRegression()"
   ]
  },
  {
   "cell_type": "code",
   "execution_count": null,
   "metadata": {
    "id": "nYULYC0MHmkz"
   },
   "outputs": [],
   "source": [
    "# Hyperparameters Defining\n",
    "# It follows Gridsearch method. It sets the given parameter in the grid to fixed values.It randomly select the values and check for he best outcome.\n",
    "param_grid = ParamGridBuilder().\\\n",
    "    addGrid(LR.regParam, [0.01, 0.1, 0.5, 1.0]).\\ # It should be >0 , so here it will take default coefficiant values\n",
    "    addGrid(LR.elasticNetParam, [0.0, 0.25, 0.5, 0.75, 1.0]).\\ # it is regulizaton(to avoid overfitting issues)\n",
    "    addGrid(LR.maxIter, [10, 20, 50]).\\ # It is the number of iterations.\n",
    "    build()"
   ]
  },
  {
   "cell_type": "code",
   "execution_count": null,
   "metadata": {
    "id": "LCsJAccWHmoJ"
   },
   "outputs": [],
   "source": [
    "# Evaluate model\n",
    "# Create 5-fold CrossValidator\n",
    "# It uses different portion of the data to train and test a model in different iteration.\n",
    "# Here labelCol is given as attack_cat and featurescol as pcaFeatures, param_grid is given as the input to estimatorParamMaps\n",
    "# MulticlassClassification evaluator is and the labelcol is set as attack_cat\n",
    "# first five for testing and remaing training data \n",
    "lrcv = CrossValidator(estimator = LogisticRegression(labelCol=\"attack_cat\",featuresCol=\"pcaFeatures\"),\n",
    "                    estimatorParamMaps = param_grid,\n",
    "                    evaluator = MulticlassClassificationEvaluator().setLabelCol('attack_cat'),\n",
    "                    numFolds = 5)"
   ]
  },
  {
   "cell_type": "code",
   "execution_count": 22,
   "metadata": {
    "id": "EqPlqzw1HmrA"
   },
   "outputs": [],
   "source": [
    "# Model Fitting using train data\n",
    "LR_Model = LR.fit(train)"
   ]
  },
  {
   "cell_type": "markdown",
   "metadata": {
    "id": "9vftNO_BOUsb"
   },
   "source": [
    "\n",
    "# **Task 2 - Multi Classifier [25 marks]**\n"
   ]
  },
  {
   "cell_type": "markdown",
   "metadata": {},
   "source": [
    "**Random Forest Classifier  - CLASSIFICATION**"
   ]
  },
  {
   "cell_type": "code",
   "execution_count": null,
   "metadata": {
    "id": "AD6p7t0GO4ac"
   },
   "outputs": [],
   "source": [
    "# Model Initialization - Random Forest Classifier\n",
    "RF = RandomForestClassifier()"
   ]
  },
  {
   "cell_type": "code",
   "execution_count": null,
   "metadata": {
    "id": "mKL-kTybOboJ"
   },
   "outputs": [],
   "source": [
    "# Hyperparameters Defining - Random Forest Classifier\n",
    "# It contains bagging and boosting technique\n",
    "# It is more accurate and robust\n",
    "# Here it follows grid search technique where is contains number of trees, impurities and max depth as the parameters.\n",
    "# gini index takes the values between 0 and 0.5, entropy takes the value between 0 and 1\n",
    "# It randomly takes the value between these and check for the best outcome\n",
    "\n",
    "RF_param_grid = ParamGridBuilder().\\\n",
    "    addGrid(RF.numTrees, [10,20,30,40,50]).\\\n",
    "    addGrid(RF.impurity, ['gini','entropy']).\\ \n",
    "    addGrid(RF.maxDepth, [1, 5, 10, 20, 50]).\\\n",
    "    build()"
   ]
  },
  {
   "cell_type": "code",
   "execution_count": null,
   "metadata": {
    "id": "488IL911XsAS"
   },
   "outputs": [],
   "source": [
    "# Evaluate model\n",
    "# Create 5-fold CrossValidator\n",
    "# Here attack_cat is given as the input in label column and pcaFeatures is given as the input in featuresCol\n",
    "# RF_param_grid is given to the estimatorParamMaps\n",
    "# Here multiclassClassification evaluator is used and the label column is set as attack_cat\n",
    "# Here first five is used for testing and rest for training\n",
    "RF_cv = CrossValidator(estimator = RandomForestClassifier(labelCol=\"attack_cat\",featuresCol=\"pcaFeatures\"),\n",
    "                    estimatorParamMaps = RF_param_grid,\n",
    "                    evaluator = MulticlassClassificationEvaluator().setLabelCol('attack_cat'),\n",
    "                    numFolds =5)"
   ]
  },
  {
   "cell_type": "code",
   "execution_count": null,
   "metadata": {
    "id": "cjgH8nMTYodX"
   },
   "outputs": [],
   "source": [
    "# Model Fitting - Random Forest Classifier\n",
    "# Train data is used for fitting\n",
    "RFModel = RF.fit(train)"
   ]
  },
  {
   "cell_type": "markdown",
   "metadata": {
    "id": "aLIilsjBB7A_"
   },
   "source": [
    "\n",
    "# **Task 3 - Performance Measurements [15 marks]**\n"
   ]
  },
  {
   "cell_type": "markdown",
   "metadata": {},
   "source": [
    "***Methods to select evaluate models:***\n",
    "\n",
    "    * Accuracy\n",
    "    * Confusion Matrix\n",
    "    * Classification Report\n",
    "    * AUC & ROC"
   ]
  },
  {
   "cell_type": "code",
   "execution_count": 36,
   "metadata": {
    "id": "Xssa1vcxi7mi"
   },
   "outputs": [],
   "source": [
    "# Validating Model & Predicting on Test Data\n",
    "# Both the model is transformed using test data\n",
    "LR_pred = LR_Model.transform(test)\n",
    "RF_pred = RFModel.transform(test)"
   ]
  },
  {
   "cell_type": "code",
   "execution_count": 37,
   "metadata": {
    "id": "pC7UFZZ8jhjt"
   },
   "outputs": [],
   "source": [
    "# Actual vs Predicted Values\n",
    "# Here we take actual values, predicted values for logistic regression and randon forest prediction\n",
    "LR_y_hat = LR_pred.select('prediction').collect() # Logistic Prediction\n",
    "RF_y_hat = RF_pred.select('prediction').collect() # Random Forest Prediction\n",
    "y_act = LR_pred.select(\"attack_cat\").collect() # Actual Values"
   ]
  },
  {
   "cell_type": "markdown",
   "metadata": {},
   "source": [
    "***Logistic Regression - Confusion Matrix & Classification Report***"
   ]
  },
  {
   "cell_type": "code",
   "execution_count": null,
   "metadata": {
    "id": "DLerC6hWrHqQ"
   },
   "outputs": [],
   "source": [
    "# Confusion Matrix - Logistic Regression\n",
    "# Here actual value and predicted value is given as the input to the confusion matrix of logistic regression\n",
    "LR_confu = confusion_matrix(y_act,LR_y_hat)\n",
    "# Classification Report - Logistic Regression\n",
    "# It gives tabular summary of precision, recall, F1 Score, and support of your trained classification model.\n",
    "LR_class_report = classification_report(y_act,LR_y_hat)"
   ]
  },
  {
   "cell_type": "code",
   "execution_count": null,
   "metadata": {
    "id": "3P9WqkGRnroU"
   },
   "outputs": [],
   "source": [
    "# Display Confusion Matrix - Logistic Regression\n",
    "LR_disp = ConfusionMatrixDisplay(confusion_matrix=LR_confu,display_labels=['Normal',\n",
    "                        'Generic','Exploits','Fuzzers','DoS','Reconnaissance',\n",
    "                        'Analysis','Backdoor','Shellcode','Backdoors','Worms'])"
   ]
  },
  {
   "cell_type": "code",
   "execution_count": null,
   "metadata": {
    "colab": {
     "base_uri": "https://localhost:8080/",
     "height": 797
    },
    "id": "qjKorHSHoAql",
    "outputId": "3298b662-3e8e-4a73-cb3b-d3060bf86e63"
   },
   "outputs": [
    {
     "name": "stdout",
     "output_type": "stream",
     "text": [
      "Logistic Regression Evaluation Metrics:\n",
      "\n",
      "Cofusion Matrix:\n",
      "\n",
      "\n"
     ]
    },
    {
     "data": {
      "image/png": "[encoded data removed]",
      "text/plain": [
       "<Figure size 432x288 with 2 Axes>"
      ]
     },
     "metadata": {
      "needs_background": "light"
     },
     "output_type": "display_data"
    },
    {
     "data": {
      "text/plain": [
       "<Figure size 36000x72000 with 0 Axes>"
      ]
     },
     "metadata": {},
     "output_type": "display_data"
    },
    {
     "name": "stdout",
     "output_type": "stream",
     "text": [
      "\n",
      "\n",
      "Classification Report:\n",
      "\n",
      "\n",
      "              precision    recall  f1-score   support\n",
      "\n",
      "           0       0.99      0.99      0.99    664228\n",
      "           1       0.96      0.98      0.97     64996\n",
      "           2       0.54      0.58      0.56     13585\n",
      "           3       0.42      0.28      0.34      7240\n",
      "           4       0.32      0.20      0.25      4859\n",
      "           5       0.44      0.59      0.50      4119\n",
      "           6       0.52      0.03      0.05       815\n",
      "           7       0.00      0.00      0.00       525\n",
      "           8       0.00      0.00      0.00       461\n",
      "           9       0.00      0.00      0.00       154\n",
      "          10       0.00      0.00      0.00        52\n",
      "\n",
      "    accuracy                           0.97    761034\n",
      "   macro avg       0.38      0.33      0.33    761034\n",
      "weighted avg       0.96      0.97      0.97    761034\n",
      "\n"
     ]
    }
   ],
   "source": [
    "print(\"Logistic Regression Evaluation Metrics:\\n\")\n",
    "print(\"Cofusion Matrix:\\n\\n\")\n",
    "# Plotting Confusion Matrix\n",
    "LR_disp.plot()\n",
    "plt.figure(figsize=(500,1000))\n",
    "plt.show()\n",
    "# Printing Classification Report\n",
    "print(\"\\n\")\n",
    "print(\"Classification Report:\\n\\n\")\n",
    "print(LR_class_report)"
   ]
  },
  {
   "cell_type": "markdown",
   "metadata": {
    "id": "StvNyhkkE3vk"
   },
   "source": [
    "***Random Forest Classifier - Confusion Matrix & Classification Report***"
   ]
  },
  {
   "cell_type": "code",
   "execution_count": null,
   "metadata": {
    "id": "A2zYirG5E99l"
   },
   "outputs": [],
   "source": [
    "# Confusion Matrix - Random Forest Classifier\n",
    "# Here actual value and predicted value is given as the input to the confusion matrix in random forest classifier.\n",
    "RF_confu = confusion_matrix(y_act,RF_y_hat)\n",
    "# Classification Report - Random Forest Classifier\n",
    "RF_class_report = classification_report(y_act,RF_y_hat)"
   ]
  },
  {
   "cell_type": "code",
   "execution_count": null,
   "metadata": {
    "id": "TsgXJsUGFNb4"
   },
   "outputs": [],
   "source": [
    "# Display Confusion Matrix - Random Forest Classifier\n",
    "RF_disp = ConfusionMatrixDisplay(confusion_matrix=RF_confu,display_labels=['Normal',\n",
    "                        'Generic','Exploits','Fuzzers','DoS','Reconnaissance',\n",
    "                        'Analysis','Backdoor','Shellcode','Backdoors','Worms'])"
   ]
  },
  {
   "cell_type": "code",
   "execution_count": null,
   "metadata": {
    "colab": {
     "base_uri": "https://localhost:8080/",
     "height": 797
    },
    "id": "FUX6GZTUFS7t",
    "outputId": "a2a82bbe-f3e2-4f09-9769-afdebcfb8cc0"
   },
   "outputs": [
    {
     "name": "stdout",
     "output_type": "stream",
     "text": [
      "Random Forest Classifier Evaluation Metrics:\n",
      "\n",
      "Cofusion Matrix:\n",
      "\n",
      "\n"
     ]
    },
    {
     "data": {
      "image/png": "[encoded data removed]",
      "text/plain": [
       "<Figure size 432x288 with 2 Axes>"
      ]
     },
     "metadata": {
      "needs_background": "light"
     },
     "output_type": "display_data"
    },
    {
     "data": {
      "text/plain": [
       "<Figure size 36000x72000 with 0 Axes>"
      ]
     },
     "metadata": {},
     "output_type": "display_data"
    },
    {
     "name": "stdout",
     "output_type": "stream",
     "text": [
      "\n",
      "\n",
      "Classification Report:\n",
      "\n",
      "\n",
      "              precision    recall  f1-score   support\n",
      "\n",
      "           0       0.99      1.00      0.99    664228\n",
      "           1       0.99      0.97      0.98     64996\n",
      "           2       0.54      0.90      0.67     13585\n",
      "           3       1.00      0.01      0.02      7240\n",
      "           4       0.00      0.00      0.00      4859\n",
      "           5       0.87      0.57      0.68      4119\n",
      "           6       0.00      0.00      0.00       815\n",
      "           7       0.00      0.00      0.00       525\n",
      "           8       0.00      0.00      0.00       461\n",
      "           9       0.00      0.00      0.00       154\n",
      "          10       0.00      0.00      0.00        52\n",
      "\n",
      "    accuracy                           0.97    761034\n",
      "   macro avg       0.40      0.31      0.31    761034\n",
      "weighted avg       0.97      0.97      0.97    761034\n",
      "\n"
     ]
    }
   ],
   "source": [
    "print(\"Random Forest Classifier Evaluation Metrics:\\n\")\n",
    "print(\"Cofusion Matrix:\\n\\n\")\n",
    "# Plotting Confusion Matrix\n",
    "RF_disp.plot()\n",
    "plt.figure(figsize=(500,1000))\n",
    "plt.show()\n",
    "# Printing Classification Report\n",
    "print(\"\\n\")\n",
    "print(\"Classification Report:\\n\\n\")\n",
    "print(RF_class_report)"
   ]
  },
  {
   "cell_type": "markdown",
   "metadata": {},
   "source": [
    "***Logistic Regression - AUC & ROC***"
   ]
  },
  {
   "cell_type": "code",
   "execution_count": 51,
   "metadata": {
    "colab": {
     "base_uri": "https://localhost:8080/",
     "height": 313
    },
    "id": "4A3tkY17Fq3X",
    "outputId": "67423f07-1b9f-44af-8548-6f1ca1e51134"
   },
   "outputs": [
    {
     "name": "stderr",
     "output_type": "stream",
     "text": [
      "No handles with labels found to put in legend.\n"
     ]
    },
    {
     "data": {
      "image/png": "[encoded data removed]",
      "text/plain": [
       "<Figure size 432x288 with 1 Axes>"
      ]
     },
     "metadata": {
      "needs_background": "light"
     },
     "output_type": "display_data"
    }
   ],
   "source": [
    "fpr, tpr, _ = metrics.roc_curve(y_act,  LR_y_hat)\n",
    "auc = metrics.roc_auc_score(y_act, LR_y_hat)\n",
    "plt.plot(fpr,tpr)\n",
    "plt.title(\"Logistic Regression AUC & ROC Curve\")\n",
    "plt.xlabel(\"False Postive Rate\")\n",
    "plt.ylabel(\"True Positive Rate\")\n",
    "plt.legend(loc=4)\n",
    "plt.show()"
   ]
  },
  {
   "cell_type": "markdown",
   "metadata": {},
   "source": [
    "***Random Forest Classifier - AUC & ROC***"
   ]
  },
  {
   "cell_type": "code",
   "execution_count": 54,
   "metadata": {
    "colab": {
     "base_uri": "https://localhost:8080/",
     "height": 313
    },
    "id": "ThXOu-5RGwJu",
    "outputId": "ad3adbb6-0430-4335-e313-78db9af5cbbf"
   },
   "outputs": [
    {
     "name": "stderr",
     "output_type": "stream",
     "text": [
      "No handles with labels found to put in legend.\n"
     ]
    },
    {
     "data": {
      "image/png": "[encoded data removed]",
      "text/plain": [
       "<Figure size 432x288 with 1 Axes>"
      ]
     },
     "metadata": {
      "needs_background": "light"
     },
     "output_type": "display_data"
    }
   ],
   "source": [
    "fpr, tpr, _ = metrics.roc_curve(y_act,  RF_y_hat)\n",
    "auc = metrics.roc_auc_score(y_act, RF_y_hat)\n",
    "plt.plot(fpr,tpr)\n",
    "plt.title(\"Random Forest Classifier AUC & ROC Curve\")\n",
    "plt.xlabel(\"False Postive Rate\")\n",
    "plt.ylabel(\"True Positive Rate\")\n",
    "plt.legend(loc=4)\n",
    "plt.show()"
   ]
  },
  {
   "cell_type": "markdown",
   "metadata": {
    "id": "YgeJMNkQDKSI"
   },
   "source": [
    "***Accuracy Comparision***"
   ]
  },
  {
   "cell_type": "code",
   "execution_count": 32,
   "metadata": {
    "colab": {
     "base_uri": "https://localhost:8080/",
     "height": 352
    },
    "id": "i-qf95-2AbN3",
    "outputId": "0436cf20-9cd1-4401-cb42-362001f868e5"
   },
   "outputs": [
    {
     "data": {
      "image/png": "[encoded data removed]",
      "text/plain": [
       "<Figure size 432x288 with 1 Axes>"
      ]
     },
     "metadata": {
      "needs_background": "light"
     },
     "output_type": "display_data"
    }
   ],
   "source": [
    "models = [\"Logistic Regression\",\"Random Forest Classifier\"]\n",
    "accuracy = [97, 98]\n",
    "import matplotlib.pyplot as plt\n",
    "fig = plt.figure()\n",
    "ax = fig.add_axes([0,0,1,1])\n",
    "ax.bar(models,accuracy)\n",
    "plt.title(\"Accuracy: Logistic vs Random Forest Classifier\")\n",
    "plt.show()"
   ]
  },
  {
   "cell_type": "markdown",
   "metadata": {},
   "source": [
    "***Precison Comparision***"
   ]
  },
  {
   "cell_type": "code",
   "execution_count": 34,
   "metadata": {
    "colab": {
     "base_uri": "https://localhost:8080/",
     "height": 352
    },
    "id": "Oj4yMcpTDg7e",
    "outputId": "d0228555-383c-4854-8b06-1e38e3b578e4"
   },
   "outputs": [
    {
     "data": {
      "image/png": "[encoded data removed]",
      "text/plain": [
       "<Figure size 432x288 with 1 Axes>"
      ]
     },
     "metadata": {
      "needs_background": "light"
     },
     "output_type": "display_data"
    }
   ],
   "source": [
    "models = [\"Logistic Regression\",\"Random Forest Classifier\"]\n",
    "precison = [98, 100]\n",
    "fig = plt.figure()\n",
    "ax = fig.add_axes([0,0,1,1])\n",
    "ax.bar(models,precison)\n",
    "plt.title(\"Precison: Logistic vs Random Forest Classifier\")\n",
    "plt.show()"
   ]
  },
  {
   "cell_type": "markdown",
   "metadata": {},
   "source": [
    "***Reacall Comparision***"
   ]
  },
  {
   "cell_type": "code",
   "execution_count": 35,
   "metadata": {
    "colab": {
     "base_uri": "https://localhost:8080/",
     "height": 352
    },
    "id": "GM4SqXsFDtia",
    "outputId": "8d1d8883-d7f7-4a4d-d2fb-131f20120b18"
   },
   "outputs": [
    {
     "data": {
      "image/png": "[encoded data removed]",
      "text/plain": [
       "<Figure size 432x288 with 1 Axes>"
      ]
     },
     "metadata": {
      "needs_background": "light"
     },
     "output_type": "display_data"
    }
   ],
   "source": [
    "models = [\"Logistic Regression\",\"Random Forest Classifier\"]\n",
    "recall = [99,100]\n",
    "fig = plt.figure()\n",
    "ax = fig.add_axes([0,0,1,1])\n",
    "ax.bar(models,recall)\n",
    "plt.title(\"Recall: Logistic vs Random Forest Classifier\")\n",
    "plt.show()"
   ]
  },
  {
   "cell_type": "markdown",
   "metadata": {
    "id": "lMUH59-eKu-O"
   },
   "source": [
    "### Random Forest Classifier Performed Well with 97% Accuracy with High Precision & Recall compared to Logistic regression."
   ]
  }
 ],
 "metadata": {
  "colab": {
   "collapsed_sections": [],
   "name": "BIG_DATA_REPORT.ipynb",
   "provenance": []
  },
  "kernelspec": {
   "display_name": "Python 3 (ipykernel)",
   "language": "python",
   "name": "python3"
  },
  "language_info": {
   "codemirror_mode": {
    "name": "ipython",
    "version": 3
   },
   "file_extension": ".py",
   "mimetype": "text/x-python",
   "name": "python",
   "nbconvert_exporter": "python",
   "pygments_lexer": "ipython3",
   "version": "3.9.7"
  }
 },
 "nbformat": 4,
 "nbformat_minor": 1
}
